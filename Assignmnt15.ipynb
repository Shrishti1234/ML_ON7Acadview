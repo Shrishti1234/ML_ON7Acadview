{
 "cells": [
  {
   "cell_type": "markdown",
   "metadata": {},
   "source": [
    "#### Ques 1\n",
    "Loading dataset"
   ]
  },
  {
   "cell_type": "code",
   "execution_count": 34,
   "metadata": {},
   "outputs": [],
   "source": [
    "from sklearn.datasets import load_digits"
   ]
  },
  {
   "cell_type": "code",
   "execution_count": 35,
   "metadata": {},
   "outputs": [],
   "source": [
    "dataset=load_digits()"
   ]
  },
  {
   "cell_type": "code",
   "execution_count": 36,
   "metadata": {},
   "outputs": [
    {
     "data": {
      "text/plain": [
       "(1797, 64)"
      ]
     },
     "execution_count": 36,
     "metadata": {},
     "output_type": "execute_result"
    }
   ],
   "source": [
    "x=dataset.data\n",
    "x.shape"
   ]
  },
  {
   "cell_type": "code",
   "execution_count": 37,
   "metadata": {},
   "outputs": [
    {
     "data": {
      "text/plain": [
       "(1797,)"
      ]
     },
     "execution_count": 37,
     "metadata": {},
     "output_type": "execute_result"
    }
   ],
   "source": [
    "y=dataset.target\n",
    "y.shape"
   ]
  },
  {
   "cell_type": "code",
   "execution_count": 38,
   "metadata": {},
   "outputs": [
    {
     "data": {
      "text/plain": [
       "<Figure size 432x288 with 0 Axes>"
      ]
     },
     "metadata": {},
     "output_type": "display_data"
    },
    {
     "data": {
      "image/png": "[encoded data removed]",
      "text/plain": [
       "<Figure size 288x288 with 1 Axes>"
      ]
     },
     "metadata": {},
     "output_type": "display_data"
    }
   ],
   "source": [
    "import matplotlib.pyplot as plt\n",
    "plt.gray()\n",
    "plt.matshow(dataset.images[0])\n",
    "plt.show()"
   ]
  },
  {
   "cell_type": "markdown",
   "metadata": {},
   "source": [
    "#### Ques 2\n",
    "Splitting of dataset into train and test dataset"
   ]
  },
  {
   "cell_type": "code",
   "execution_count": 39,
   "metadata": {},
   "outputs": [],
   "source": [
    "from sklearn.cross_validation import train_test_split"
   ]
  },
  {
   "cell_type": "code",
   "execution_count": 40,
   "metadata": {},
   "outputs": [],
   "source": [
    "x_train,x_test,y_train,y_test=train_test_split(x,y,test_size=0.30,random_state=5)\n"
   ]
  },
  {
   "cell_type": "markdown",
   "metadata": {},
   "source": [
    "#### Ques 3(a)\n",
    "Svc using linear kernels"
   ]
  },
  {
   "cell_type": "code",
   "execution_count": 41,
   "metadata": {},
   "outputs": [
    {
     "data": {
      "text/plain": [
       "0.9833333333333333"
      ]
     },
     "execution_count": 41,
     "metadata": {},
     "output_type": "execute_result"
    }
   ],
   "source": [
    "from sklearn.svm import SVC\n",
    "svc=SVC(kernel='linear')\n",
    "svc.fit(x_train,y_train)\n",
    "# Score \n",
    "svc.score(x_test,y_test)"
   ]
  },
  {
   "cell_type": "code",
   "execution_count": 42,
   "metadata": {},
   "outputs": [
    {
     "name": "stdout",
     "output_type": "stream",
     "text": [
      "[[58  0  0  0  0  0  0  0  0  0]\n",
      " [ 0 52  0  0  0  0  0  0  0  0]\n",
      " [ 0  0 58  0  0  0  0  0  0  0]\n",
      " [ 0  0  1 56  0  1  0  0  0  1]\n",
      " [ 0  1  0  0 42  0  0  0  0  0]\n",
      " [ 0  0  0  0  0 63  0  0  0  1]\n",
      " [ 0  0  0  0  0  0 47  0  0  0]\n",
      " [ 0  0  0  0  0  0  0 58  0  1]\n",
      " [ 0  1  0  0  0  0  0  0 48  1]\n",
      " [ 0  0  0  0  0  1  0  0  0 49]]\n",
      "             precision    recall  f1-score   support\n",
      "\n",
      "          0       1.00      1.00      1.00        58\n",
      "          1       0.96      1.00      0.98        52\n",
      "          2       0.98      1.00      0.99        58\n",
      "          3       1.00      0.95      0.97        59\n",
      "          4       1.00      0.98      0.99        43\n",
      "          5       0.97      0.98      0.98        64\n",
      "          6       1.00      1.00      1.00        47\n",
      "          7       1.00      0.98      0.99        59\n",
      "          8       1.00      0.96      0.98        50\n",
      "          9       0.92      0.98      0.95        50\n",
      "\n",
      "avg / total       0.98      0.98      0.98       540\n",
      "\n"
     ]
    }
   ],
   "source": [
    "from sklearn import metrics as mt\n",
    "pred=svc.predict(x_test)\n",
    "# Confusion mtarix\n",
    "print mt.confusion_matrix(y_test,pred)\n",
    "# Classification report\n",
    "print mt.classification_report(y_test,pred)"
   ]
  },
  {
   "cell_type": "markdown",
   "metadata": {},
   "source": [
    "#### Ques 3(b)\n",
    "Svc using poly kernels"
   ]
  },
  {
   "cell_type": "code",
   "execution_count": 56,
   "metadata": {},
   "outputs": [
    {
     "name": "stdout",
     "output_type": "stream",
     "text": [
      "0.9888888888888889\n"
     ]
    }
   ],
   "source": [
    "svc=SVC(kernel='poly',degree=4)\n",
    "svc.fit(x_train,y_train)\n",
    "pred=svc.predict(x_test)\n",
    "# score\n",
    "print svc.score(x_test,y_test)"
   ]
  },
  {
   "cell_type": "code",
   "execution_count": 44,
   "metadata": {},
   "outputs": [
    {
     "name": "stdout",
     "output_type": "stream",
     "text": [
      "[[58  0  0  0  0  0  0  0  0  0]\n",
      " [ 0 52  0  0  0  0  0  0  0  0]\n",
      " [ 0  0 58  0  0  0  0  0  0  0]\n",
      " [ 0  0  1 57  0  1  0  0  0  0]\n",
      " [ 0  0  0  0 43  0  0  0  0  0]\n",
      " [ 0  0  0  0  0 63  0  0  0  1]\n",
      " [ 0  0  0  0  0  0 46  0  1  0]\n",
      " [ 0  0  0  0  0  0  0 58  0  1]\n",
      " [ 0  0  0  0  0  0  0  0 50  0]\n",
      " [ 0  0  0  0  0  1  0  0  0 49]]\n",
      "             precision    recall  f1-score   support\n",
      "\n",
      "          0       1.00      1.00      1.00        58\n",
      "          1       1.00      1.00      1.00        52\n",
      "          2       0.98      1.00      0.99        58\n",
      "          3       1.00      0.97      0.98        59\n",
      "          4       1.00      1.00      1.00        43\n",
      "          5       0.97      0.98      0.98        64\n",
      "          6       1.00      0.98      0.99        47\n",
      "          7       1.00      0.98      0.99        59\n",
      "          8       0.98      1.00      0.99        50\n",
      "          9       0.96      0.98      0.97        50\n",
      "\n",
      "avg / total       0.99      0.99      0.99       540\n",
      "\n"
     ]
    }
   ],
   "source": [
    "# Confusion matrix \n",
    "print mt.confusion_matrix(y_test,pred)\n",
    "# Classifiaction report\n",
    "print mt.classification_report(y_test,pred)"
   ]
  },
  {
   "cell_type": "markdown",
   "metadata": {},
   "source": [
    "#### Ques 3(c)\n",
    "Svc using gaussian kernels"
   ]
  },
  {
   "cell_type": "code",
   "execution_count": 45,
   "metadata": {},
   "outputs": [
    {
     "data": {
      "text/plain": [
       "0.32407407407407407"
      ]
     },
     "execution_count": 45,
     "metadata": {},
     "output_type": "execute_result"
    }
   ],
   "source": [
    "svc=SVC(kernel='rbf')\n",
    "svc.fit(x_train,y_train)\n",
    "# Score\n",
    "svc.score(x_test,y_test)"
   ]
  },
  {
   "cell_type": "code",
   "execution_count": 46,
   "metadata": {},
   "outputs": [
    {
     "name": "stdout",
     "output_type": "stream",
     "text": [
      "[[23  0  0  0 35  0  0  0  0  0]\n",
      " [ 0 18  0  0 34  0  0  0  0  0]\n",
      " [ 0  0 11  0 47  0  0  0  0  0]\n",
      " [ 0  0  0 10 49  0  0  0  0  0]\n",
      " [ 0  0  0  0 43  0  0  0  0  0]\n",
      " [ 0  0  0  0 62  2  0  0  0  0]\n",
      " [ 0  0  0  0 19  0 28  0  0  0]\n",
      " [ 0  0  0  0 45  0  0 14  0  0]\n",
      " [ 0  0  0  0 45  0  0  0  5  0]\n",
      " [ 0  0  0  0 29  0  0  0  0 21]]\n",
      "             precision    recall  f1-score   support\n",
      "\n",
      "          0       1.00      0.40      0.57        58\n",
      "          1       1.00      0.35      0.51        52\n",
      "          2       1.00      0.19      0.32        58\n",
      "          3       1.00      0.17      0.29        59\n",
      "          4       0.11      1.00      0.19        43\n",
      "          5       1.00      0.03      0.06        64\n",
      "          6       1.00      0.60      0.75        47\n",
      "          7       1.00      0.24      0.38        59\n",
      "          8       1.00      0.10      0.18        50\n",
      "          9       1.00      0.42      0.59        50\n",
      "\n",
      "avg / total       0.93      0.32      0.38       540\n",
      "\n"
     ]
    }
   ],
   "source": [
    "pred=svc.predict(x_test)\n",
    "# Confusion matrix\n",
    "print mt.confusion_matrix(y_test,pred)\n",
    "# calssification report\n",
    "print mt.classification_report(y_test,pred)"
   ]
  },
  {
   "cell_type": "markdown",
   "metadata": {},
   "source": [
    "#### Ques 3(d)\n",
    "Svc using sigmoid kernels"
   ]
  },
  {
   "cell_type": "code",
   "execution_count": 47,
   "metadata": {},
   "outputs": [
    {
     "name": "stdout",
     "output_type": "stream",
     "text": [
      "0.32407407407407407\n"
     ]
    }
   ],
   "source": [
    "scv=SVC(kernel='sigmoid')\n",
    "svc.fit(x_train,y_train)\n",
    "# score\n",
    "print svc.score(x_test,y_test)"
   ]
  },
  {
   "cell_type": "code",
   "execution_count": 48,
   "metadata": {},
   "outputs": [
    {
     "name": "stdout",
     "output_type": "stream",
     "text": [
      "[[23  0  0  0 35  0  0  0  0  0]\n",
      " [ 0 18  0  0 34  0  0  0  0  0]\n",
      " [ 0  0 11  0 47  0  0  0  0  0]\n",
      " [ 0  0  0 10 49  0  0  0  0  0]\n",
      " [ 0  0  0  0 43  0  0  0  0  0]\n",
      " [ 0  0  0  0 62  2  0  0  0  0]\n",
      " [ 0  0  0  0 19  0 28  0  0  0]\n",
      " [ 0  0  0  0 45  0  0 14  0  0]\n",
      " [ 0  0  0  0 45  0  0  0  5  0]\n",
      " [ 0  0  0  0 29  0  0  0  0 21]]\n",
      "             precision    recall  f1-score   support\n",
      "\n",
      "          0       1.00      0.40      0.57        58\n",
      "          1       1.00      0.35      0.51        52\n",
      "          2       1.00      0.19      0.32        58\n",
      "          3       1.00      0.17      0.29        59\n",
      "          4       0.11      1.00      0.19        43\n",
      "          5       1.00      0.03      0.06        64\n",
      "          6       1.00      0.60      0.75        47\n",
      "          7       1.00      0.24      0.38        59\n",
      "          8       1.00      0.10      0.18        50\n",
      "          9       1.00      0.42      0.59        50\n",
      "\n",
      "avg / total       0.93      0.32      0.38       540\n",
      "\n"
     ]
    }
   ],
   "source": [
    "pred=svc.predict(x_test)\n",
    "# Confusion matrix\n",
    "print mt.confusion_matrix(y_test,pred)\n",
    "# Classifiaction report\n",
    "print mt.classification_report(y_test,pred)"
   ]
  }
 ],
 "metadata": {
  "kernelspec": {
   "display_name": "Python 2",
   "language": "python",
   "name": "python2"
  },
  "language_info": {
   "codemirror_mode": {
    "name": "ipython",
    "version": 2
   },
   "file_extension": ".py",
   "mimetype": "text/x-python",
   "name": "python",
   "nbconvert_exporter": "python",
   "pygments_lexer": "ipython2",
   "version": "2.7.15"
  }
 },
 "nbformat": 4,
 "nbformat_minor": 2
}

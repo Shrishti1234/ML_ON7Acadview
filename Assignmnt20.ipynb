{
  "nbformat": 4,
  "nbformat_minor": 0,
  "metadata": {
    "colab": {
      "name": "Assignmnt20.ipynb",
      "version": "0.3.2",
      "provenance": [],
      "include_colab_link": true
    }
  },
  "cells": [
    {
      "cell_type": "markdown",
      "metadata": {
        "id": "view-in-github",
        "colab_type": "text"
      },
      "source": [
        "[View in Colaboratory](https://colab.research.google.com/github/Shrishti1234/ML_ON7Acadview/blob/master/Assignmnt20.ipynb)"
      ]
    },
    {
      "metadata": {
        "id": "88a41qZnV3ow",
        "colab_type": "text"
      },
      "cell_type": "markdown",
      "source": [
        "**Ques 1**\n",
        "\n",
        "VALUE OF F"
      ]
    },
    {
      "metadata": {
        "id": "0ZoKgMGwV2Pn",
        "colab_type": "code",
        "colab": {
          "base_uri": "https://localhost:8080/",
          "height": 35
        },
        "outputId": "430607cf-4bc7-4dfb-f664-695eb254acac"
      },
      "cell_type": "code",
      "source": [
        "# u=a*b\n",
        "# v=a*c\n",
        "# w=b+c\n",
        "# F=u+v-w\n",
        "# F=a*b + a*c - (b+c)\n",
        "# F=a*(b+c) - (b+c)\n",
        "# F=(b+c)*(a-1)\n",
        "print \"Simplest value of F =(b+c)*(a-1)\""
      ],
      "execution_count": 1,
      "outputs": [
        {
          "output_type": "stream",
          "text": [
            "Simplest value of F =(b+c)*(a-1)\n"
          ],
          "name": "stdout"
        }
      ]
    },
    {
      "metadata": {
        "id": "CGtwbEGZbR3p",
        "colab_type": "text"
      },
      "cell_type": "markdown",
      "source": [
        "**Ques 2**\n",
        "\n",
        "VALUE OF X AND OUTPUT F(X)"
      ]
    },
    {
      "metadata": {
        "id": "39Y1MNgBbDVq",
        "colab_type": "code",
        "colab": {
          "base_uri": "https://localhost:8080/",
          "height": 35
        },
        "outputId": "65adfe25-2b86-49d3-93a2-dd1b4ba09aee"
      },
      "cell_type": "code",
      "source": [
        "#x=Weights*inputs\n",
        "#x=-0.06*2.7 + -2.5*-8.6 + 1.4*0.002\n",
        "x= -0.06*2.7 + -2.5*-8.6 + 1.4*0.002 \n",
        "print x"
      ],
      "execution_count": 2,
      "outputs": [
        {
          "output_type": "stream",
          "text": [
            "21.3408\n"
          ],
          "name": "stdout"
        }
      ]
    },
    {
      "metadata": {
        "id": "l3HYz1tvc-hf",
        "colab_type": "code",
        "colab": {
          "base_uri": "https://localhost:8080/",
          "height": 35
        },
        "outputId": "816ec768-bdb7-4ecd-8b40-15165f8e2b16"
      },
      "cell_type": "code",
      "source": [
        "from math import exp\n",
        "# f(x) = 1/(1+e(-x))\n",
        "z=exp(-x)\n",
        "y=1/(1+z)\n",
        "print \"f(x)=\",y\n"
      ],
      "execution_count": 4,
      "outputs": [
        {
          "output_type": "stream",
          "text": [
            "f(x)= 0.999999999461\n"
          ],
          "name": "stdout"
        }
      ]
    },
    {
      "metadata": {
        "id": "rma36fM1lQcS",
        "colab_type": "code",
        "colab": {
          "base_uri": "https://localhost:8080/",
          "height": 35
        },
        "outputId": "e4c6fab8-e5e1-4a99-a44f-cd1643d61a1b"
      },
      "cell_type": "code",
      "source": [
        "# With biase\n",
        "# x=-0.06*2.7 + -2.5*-8.6 + 1.4*0.002 + (-1.1)\n",
        "x=-0.06*2.7 + -2.5*-8.6 + 1.4*0.002 + (-1.1)\n",
        "print x\n",
        "\n"
      ],
      "execution_count": 5,
      "outputs": [
        {
          "output_type": "stream",
          "text": [
            "20.2408\n"
          ],
          "name": "stdout"
        }
      ]
    },
    {
      "metadata": {
        "id": "cn-XyHEblqOo",
        "colab_type": "code",
        "colab": {
          "base_uri": "https://localhost:8080/",
          "height": 35
        },
        "outputId": "bcb828da-5d3a-4588-b711-e1b0a98c2bb6"
      },
      "cell_type": "code",
      "source": [
        "z=exp(-x)\n",
        "y=1/(1+z)\n",
        "print y"
      ],
      "execution_count": 8,
      "outputs": [
        {
          "output_type": "stream",
          "text": [
            "0.99999999838\n"
          ],
          "name": "stdout"
        }
      ]
    }
  ]
}
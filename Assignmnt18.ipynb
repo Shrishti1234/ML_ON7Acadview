{
  "nbformat": 4,
  "nbformat_minor": 0,
  "metadata": {
    "colab": {
      "name": "Assignmnt18.ipynb",
      "version": "0.3.2",
      "views": {},
      "default_view": {},
      "provenance": []
    }
  },
  "cells": [
    {
      "metadata": {
        "id": "t73WbLn8z4en",
        "colab_type": "text"
      },
      "cell_type": "markdown",
      "source": [
        " **Ques 1** \n",
        "\n",
        "Importing the dataset and store features in variables x and traget in variable y"
      ]
    },
    {
      "metadata": {
        "id": "xgvP6kppxg5B",
        "colab_type": "code",
        "colab": {
          "autoexec": {
            "startup": false,
            "wait_interval": 0
          }
        }
      },
      "cell_type": "code",
      "source": [
        "from sklearn.datasets import load_wine"
      ],
      "execution_count": 0,
      "outputs": []
    },
    {
      "metadata": {
        "id": "sF-WvRF4xjwx",
        "colab_type": "code",
        "colab": {
          "autoexec": {
            "startup": false,
            "wait_interval": 0
          },
          "base_uri": "https://localhost:8080/",
          "height": 153
        },
        "outputId": "ab371935-f92f-4c34-a9fd-14c66f670af1",
        "executionInfo": {
          "status": "ok",
          "timestamp": 1529756571626,
          "user_tz": -330,
          "elapsed": 1189,
          "user": {
            "displayName": "shrishti gupta",
            "photoUrl": "https://lh3.googleusercontent.com/a/default-user=s128",
            "userId": "104609007397502620632"
          }
        }
      },
      "cell_type": "code",
      "source": [
        "data=load_wine()\n",
        "x=data.data\n",
        "print x\n",
        "print x.shape"
      ],
      "execution_count": 41,
      "outputs": [
        {
          "output_type": "stream",
          "text": [
            "[[1.423e+01 1.710e+00 2.430e+00 ... 1.040e+00 3.920e+00 1.065e+03]\n",
            " [1.320e+01 1.780e+00 2.140e+00 ... 1.050e+00 3.400e+00 1.050e+03]\n",
            " [1.316e+01 2.360e+00 2.670e+00 ... 1.030e+00 3.170e+00 1.185e+03]\n",
            " ...\n",
            " [1.327e+01 4.280e+00 2.260e+00 ... 5.900e-01 1.560e+00 8.350e+02]\n",
            " [1.317e+01 2.590e+00 2.370e+00 ... 6.000e-01 1.620e+00 8.400e+02]\n",
            " [1.413e+01 4.100e+00 2.740e+00 ... 6.100e-01 1.600e+00 5.600e+02]]\n",
            "(178, 13)\n"
          ],
          "name": "stdout"
        }
      ]
    },
    {
      "metadata": {
        "id": "gJfBMo7Sy5Si",
        "colab_type": "code",
        "colab": {
          "autoexec": {
            "startup": false,
            "wait_interval": 0
          },
          "base_uri": "https://localhost:8080/",
          "height": 119
        },
        "outputId": "6e632ead-7596-46bc-e8b1-a14d3b70af5c",
        "executionInfo": {
          "status": "ok",
          "timestamp": 1529756574572,
          "user_tz": -330,
          "elapsed": 1891,
          "user": {
            "displayName": "shrishti gupta",
            "photoUrl": "https://lh3.googleusercontent.com/a/default-user=s128",
            "userId": "104609007397502620632"
          }
        }
      },
      "cell_type": "code",
      "source": [
        "y=data.target\n",
        "print y\n",
        "print y.shape"
      ],
      "execution_count": 42,
      "outputs": [
        {
          "output_type": "stream",
          "text": [
            "[0 0 0 0 0 0 0 0 0 0 0 0 0 0 0 0 0 0 0 0 0 0 0 0 0 0 0 0 0 0 0 0 0 0 0 0 0\n",
            " 0 0 0 0 0 0 0 0 0 0 0 0 0 0 0 0 0 0 0 0 0 0 1 1 1 1 1 1 1 1 1 1 1 1 1 1 1\n",
            " 1 1 1 1 1 1 1 1 1 1 1 1 1 1 1 1 1 1 1 1 1 1 1 1 1 1 1 1 1 1 1 1 1 1 1 1 1\n",
            " 1 1 1 1 1 1 1 1 1 1 1 1 1 1 1 1 1 1 1 2 2 2 2 2 2 2 2 2 2 2 2 2 2 2 2 2 2\n",
            " 2 2 2 2 2 2 2 2 2 2 2 2 2 2 2 2 2 2 2 2 2 2 2 2 2 2 2 2 2 2]\n",
            "(178,)\n"
          ],
          "name": "stdout"
        }
      ]
    },
    {
      "metadata": {
        "id": "kuyM52zC0MnG",
        "colab_type": "text"
      },
      "cell_type": "markdown",
      "source": [
        "**Ques 2(a):**\n",
        "\n",
        "Performing Bagged decision tress ensemble methods\n",
        "\n"
      ]
    },
    {
      "metadata": {
        "id": "8gdxR0UGy91q",
        "colab_type": "code",
        "colab": {
          "autoexec": {
            "startup": false,
            "wait_interval": 0
          }
        }
      },
      "cell_type": "code",
      "source": [
        "from sklearn.tree import DecisionTreeClassifier\n",
        "from sklearn.ensemble import BaggingClassifier\n",
        "from sklearn.cross_validation import train_test_split\n",
        "from sklearn import metrics as mt"
      ],
      "execution_count": 0,
      "outputs": []
    },
    {
      "metadata": {
        "id": "1Vvqqh_ZXy1J",
        "colab_type": "code",
        "colab": {
          "autoexec": {
            "startup": false,
            "wait_interval": 0
          },
          "base_uri": "https://localhost:8080/",
          "height": 34
        },
        "outputId": "691baf88-9753-45fb-bb24-1ed57c95d771",
        "executionInfo": {
          "status": "ok",
          "timestamp": 1529756583919,
          "user_tz": -330,
          "elapsed": 1444,
          "user": {
            "displayName": "shrishti gupta",
            "photoUrl": "https://lh3.googleusercontent.com/a/default-user=s128",
            "userId": "104609007397502620632"
          }
        }
      },
      "cell_type": "code",
      "source": [
        "bagging =BaggingClassifier(DecisionTreeClassifier())\n",
        "x_train,x_test,y_train,y_test=train_test_split(x,y,test_size=0.40,random_state=40)\n",
        "bagging.fit(x_train,y_train)\n",
        "pred=bagging.predict(x_test)\n",
        "mt.accuracy_score(y_test,pred)"
      ],
      "execution_count": 44,
      "outputs": [
        {
          "output_type": "execute_result",
          "data": {
            "text/plain": [
              "0.9722222222222222"
            ]
          },
          "metadata": {
            "tags": []
          },
          "execution_count": 44
        }
      ]
    },
    {
      "metadata": {
        "id": "TzEY1xIIliac",
        "colab_type": "text"
      },
      "cell_type": "markdown",
      "source": [
        "**Ques 2(b)**\n",
        "\n",
        "Random forest Classification"
      ]
    },
    {
      "metadata": {
        "id": "Vx5WoMKXabog",
        "colab_type": "code",
        "colab": {
          "autoexec": {
            "startup": false,
            "wait_interval": 0
          },
          "base_uri": "https://localhost:8080/",
          "height": 34
        },
        "outputId": "1bee57b9-3bd4-40b1-9c5f-b31e97304748",
        "executionInfo": {
          "status": "ok",
          "timestamp": 1529756588366,
          "user_tz": -330,
          "elapsed": 1280,
          "user": {
            "displayName": "shrishti gupta",
            "photoUrl": "https://lh3.googleusercontent.com/a/default-user=s128",
            "userId": "104609007397502620632"
          }
        }
      },
      "cell_type": "code",
      "source": [
        "from sklearn.ensemble import RandomForestClassifier\n",
        "forest=RandomForestClassifier(n_estimators=5,criterion='gini')\n",
        "forest.fit(x_train,y_train)\n",
        "pred=forest.predict(x_test)\n",
        "mt.accuracy_score(y_test,pred)"
      ],
      "execution_count": 45,
      "outputs": [
        {
          "output_type": "execute_result",
          "data": {
            "text/plain": [
              "0.9861111111111112"
            ]
          },
          "metadata": {
            "tags": []
          },
          "execution_count": 45
        }
      ]
    },
    {
      "metadata": {
        "id": "Ehg1lweilU38",
        "colab_type": "text"
      },
      "cell_type": "markdown",
      "source": [
        "**Ques 2(c)**\n",
        "\n",
        "Stochastic Gradient Boosting Classification"
      ]
    },
    {
      "metadata": {
        "id": "yYpoAP3KcEJf",
        "colab_type": "code",
        "colab": {
          "autoexec": {
            "startup": false,
            "wait_interval": 0
          },
          "base_uri": "https://localhost:8080/",
          "height": 34
        },
        "outputId": "5f820cad-f8ca-44f2-8a73-ebf8ffca4c59",
        "executionInfo": {
          "status": "ok",
          "timestamp": 1529756592807,
          "user_tz": -330,
          "elapsed": 1088,
          "user": {
            "displayName": "shrishti gupta",
            "photoUrl": "https://lh3.googleusercontent.com/a/default-user=s128",
            "userId": "104609007397502620632"
          }
        }
      },
      "cell_type": "code",
      "source": [
        "from sklearn.ensemble import GradientBoostingClassifier\n",
        "gradient=GradientBoostingClassifier(loss='deviance')\n",
        "gradient.fit(x_train,y_train)\n",
        "pred=gradient.predict(x_test)\n",
        "mt.accuracy_score(y_test,pred)"
      ],
      "execution_count": 46,
      "outputs": [
        {
          "output_type": "execute_result",
          "data": {
            "text/plain": [
              "0.9444444444444444"
            ]
          },
          "metadata": {
            "tags": []
          },
          "execution_count": 46
        }
      ]
    },
    {
      "metadata": {
        "id": "07nUA3Wwk_j7",
        "colab_type": "text"
      },
      "cell_type": "markdown",
      "source": [
        "**Ques 2(d)**\n",
        "\n",
        "Voting Ensemble(Decision Tree,Logistic Regression,SVC)"
      ]
    },
    {
      "metadata": {
        "id": "4dqftIHge3UG",
        "colab_type": "code",
        "colab": {
          "autoexec": {
            "startup": false,
            "wait_interval": 0
          },
          "base_uri": "https://localhost:8080/",
          "height": 88
        },
        "outputId": "1353d31d-ed6b-4fa5-aa41-b8684c190d7f",
        "executionInfo": {
          "status": "ok",
          "timestamp": 1529756597191,
          "user_tz": -330,
          "elapsed": 1127,
          "user": {
            "displayName": "shrishti gupta",
            "photoUrl": "https://lh3.googleusercontent.com/a/default-user=s128",
            "userId": "104609007397502620632"
          }
        }
      },
      "cell_type": "code",
      "source": [
        "from sklearn.ensemble import VotingClassifier\n",
        "from sklearn.linear_model import LogisticRegression\n",
        "from sklearn.svm import SVC\n",
        "log=LogisticRegression()\n",
        "tree=DecisionTreeClassifier()\n",
        "svm=SVC()\n",
        "vote=VotingClassifier(estimators=[('log',log),('tree',tree),('svm',svm)])\n",
        "vote.fit(x_train,y_train)\n",
        "pred=vote.predict(x_test)\n",
        "mt.accuracy_score(y_test,pred)"
      ],
      "execution_count": 47,
      "outputs": [
        {
          "output_type": "stream",
          "text": [
            "/usr/local/lib/python2.7/dist-packages/sklearn/preprocessing/label.py:151: DeprecationWarning: The truth value of an empty array is ambiguous. Returning False, but in future this will result in an error. Use `array.size > 0` to check that an array is not empty.\n",
            "  if diff:\n"
          ],
          "name": "stderr"
        },
        {
          "output_type": "execute_result",
          "data": {
            "text/plain": [
              "0.9444444444444444"
            ]
          },
          "metadata": {
            "tags": []
          },
          "execution_count": 47
        }
      ]
    }
  ]
}